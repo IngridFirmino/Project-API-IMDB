{
 "cells": [
  {
   "cell_type": "code",
   "execution_count": 1,
   "id": "8ba30525",
   "metadata": {},
   "outputs": [],
   "source": [
    "from bs4 import BeautifulSoup\n",
    "import requests\n",
    "import re\n",
    "import pandas as pd\n",
    "\n",
    "import statistics\n",
    "from statistics import mode"
   ]
  },
  {
   "cell_type": "code",
   "execution_count": 2,
   "id": "b831c469",
   "metadata": {},
   "outputs": [],
   "source": [
    "data = pd.read_csv(\"imdb_top_250_movies.csv\")"
   ]
  },
  {
   "cell_type": "code",
   "execution_count": 3,
   "id": "c6f1824a",
   "metadata": {},
   "outputs": [],
   "source": [
    "df = pd.DataFrame(data).reset_index()"
   ]
  },
  {
   "cell_type": "code",
   "execution_count": 4,
   "id": "aacf0e4d",
   "metadata": {},
   "outputs": [],
   "source": [
    "actors_list = df['Actors'].tolist()"
   ]
  },
  {
   "cell_type": "code",
   "execution_count": 5,
   "id": "c96f1dbb",
   "metadata": {},
   "outputs": [
    {
     "data": {
      "text/plain": [
       "'Mark Hamill, Harrison Ford, Carrie Fisher'"
      ]
     },
     "execution_count": 5,
     "metadata": {},
     "output_type": "execute_result"
    }
   ],
   "source": [
    "mode(actors_list)"
   ]
  },
  {
   "cell_type": "code",
   "execution_count": 23,
   "id": "86cc6763",
   "metadata": {},
   "outputs": [
    {
     "data": {
      "text/plain": [
       "Index(['index', 'Unnamed: 0', 'Title', 'Year', 'Rated', 'Released', 'Runtime',\n",
       "       'Genre', 'Director', 'Writer', 'Actors', 'Plot', 'Language', 'Country',\n",
       "       'Awards', 'Poster', 'Ratings', 'Metascore', 'imdbRating', 'imdbVotes',\n",
       "       'imdbID', 'Type', 'DVD', 'BoxOffice', 'Production', 'Website',\n",
       "       'Response'],\n",
       "      dtype='object')"
      ]
     },
     "execution_count": 23,
     "metadata": {},
     "output_type": "execute_result"
    }
   ],
   "source": [
    "df.columns"
   ]
  },
  {
   "cell_type": "code",
   "execution_count": 6,
   "id": "5d1467f2",
   "metadata": {},
   "outputs": [
    {
     "data": {
      "text/html": [
       "<div>\n",
       "<style scoped>\n",
       "    .dataframe tbody tr th:only-of-type {\n",
       "        vertical-align: middle;\n",
       "    }\n",
       "\n",
       "    .dataframe tbody tr th {\n",
       "        vertical-align: top;\n",
       "    }\n",
       "\n",
       "    .dataframe thead th {\n",
       "        text-align: right;\n",
       "    }\n",
       "</style>\n",
       "<table border=\"1\" class=\"dataframe\">\n",
       "  <thead>\n",
       "    <tr style=\"text-align: right;\">\n",
       "      <th></th>\n",
       "      <th>index</th>\n",
       "      <th>Unnamed: 0</th>\n",
       "      <th>Title</th>\n",
       "      <th>Year</th>\n",
       "      <th>Rated</th>\n",
       "      <th>Released</th>\n",
       "      <th>Runtime</th>\n",
       "      <th>Genre</th>\n",
       "      <th>Director</th>\n",
       "      <th>Writer</th>\n",
       "      <th>...</th>\n",
       "      <th>Metascore</th>\n",
       "      <th>imdbRating</th>\n",
       "      <th>imdbVotes</th>\n",
       "      <th>imdbID</th>\n",
       "      <th>Type</th>\n",
       "      <th>DVD</th>\n",
       "      <th>BoxOffice</th>\n",
       "      <th>Production</th>\n",
       "      <th>Website</th>\n",
       "      <th>Response</th>\n",
       "    </tr>\n",
       "  </thead>\n",
       "  <tbody>\n",
       "    <tr>\n",
       "      <th>0</th>\n",
       "      <td>0</td>\n",
       "      <td>0</td>\n",
       "      <td>The Shawshank Redemption</td>\n",
       "      <td>1994</td>\n",
       "      <td>R</td>\n",
       "      <td>14 Oct 1994</td>\n",
       "      <td>142 min</td>\n",
       "      <td>Drama</td>\n",
       "      <td>Frank Darabont</td>\n",
       "      <td>Stephen King, Frank Darabont</td>\n",
       "      <td>...</td>\n",
       "      <td>81.0</td>\n",
       "      <td>9.3</td>\n",
       "      <td>2,651,602</td>\n",
       "      <td>tt0111161</td>\n",
       "      <td>movie</td>\n",
       "      <td>21 Dec 1999</td>\n",
       "      <td>$28,767,189</td>\n",
       "      <td>NaN</td>\n",
       "      <td>NaN</td>\n",
       "      <td>True</td>\n",
       "    </tr>\n",
       "    <tr>\n",
       "      <th>1</th>\n",
       "      <td>1</td>\n",
       "      <td>1</td>\n",
       "      <td>The Godfather</td>\n",
       "      <td>1972</td>\n",
       "      <td>R</td>\n",
       "      <td>24 Mar 1972</td>\n",
       "      <td>175 min</td>\n",
       "      <td>Crime, Drama</td>\n",
       "      <td>Francis Ford Coppola</td>\n",
       "      <td>Mario Puzo, Francis Ford Coppola</td>\n",
       "      <td>...</td>\n",
       "      <td>100.0</td>\n",
       "      <td>9.2</td>\n",
       "      <td>1,840,332</td>\n",
       "      <td>tt0068646</td>\n",
       "      <td>movie</td>\n",
       "      <td>11 May 2004</td>\n",
       "      <td>$136,381,073</td>\n",
       "      <td>NaN</td>\n",
       "      <td>NaN</td>\n",
       "      <td>True</td>\n",
       "    </tr>\n",
       "    <tr>\n",
       "      <th>2</th>\n",
       "      <td>2</td>\n",
       "      <td>2</td>\n",
       "      <td>The Dark Knight</td>\n",
       "      <td>2008</td>\n",
       "      <td>PG-13</td>\n",
       "      <td>18 Jul 2008</td>\n",
       "      <td>152 min</td>\n",
       "      <td>Action, Crime, Drama</td>\n",
       "      <td>Christopher Nolan</td>\n",
       "      <td>Jonathan Nolan, Christopher Nolan, David S. Goyer</td>\n",
       "      <td>...</td>\n",
       "      <td>84.0</td>\n",
       "      <td>9.0</td>\n",
       "      <td>2,628,154</td>\n",
       "      <td>tt0468569</td>\n",
       "      <td>movie</td>\n",
       "      <td>09 Dec 2008</td>\n",
       "      <td>$534,987,076</td>\n",
       "      <td>NaN</td>\n",
       "      <td>NaN</td>\n",
       "      <td>True</td>\n",
       "    </tr>\n",
       "    <tr>\n",
       "      <th>3</th>\n",
       "      <td>3</td>\n",
       "      <td>3</td>\n",
       "      <td>The Godfather Part II</td>\n",
       "      <td>1974</td>\n",
       "      <td>R</td>\n",
       "      <td>18 Dec 1974</td>\n",
       "      <td>202 min</td>\n",
       "      <td>Crime, Drama</td>\n",
       "      <td>Francis Ford Coppola</td>\n",
       "      <td>Francis Ford Coppola, Mario Puzo</td>\n",
       "      <td>...</td>\n",
       "      <td>90.0</td>\n",
       "      <td>9.0</td>\n",
       "      <td>1,260,911</td>\n",
       "      <td>tt0071562</td>\n",
       "      <td>movie</td>\n",
       "      <td>24 May 2005</td>\n",
       "      <td>$47,834,595</td>\n",
       "      <td>NaN</td>\n",
       "      <td>NaN</td>\n",
       "      <td>True</td>\n",
       "    </tr>\n",
       "    <tr>\n",
       "      <th>4</th>\n",
       "      <td>4</td>\n",
       "      <td>4</td>\n",
       "      <td>12 Angry Men</td>\n",
       "      <td>1957</td>\n",
       "      <td>Approved</td>\n",
       "      <td>10 Apr 1957</td>\n",
       "      <td>96 min</td>\n",
       "      <td>Crime, Drama</td>\n",
       "      <td>Sidney Lumet</td>\n",
       "      <td>Reginald Rose</td>\n",
       "      <td>...</td>\n",
       "      <td>96.0</td>\n",
       "      <td>9.0</td>\n",
       "      <td>782,913</td>\n",
       "      <td>tt0050083</td>\n",
       "      <td>movie</td>\n",
       "      <td>04 Mar 2008</td>\n",
       "      <td>NaN</td>\n",
       "      <td>NaN</td>\n",
       "      <td>NaN</td>\n",
       "      <td>True</td>\n",
       "    </tr>\n",
       "    <tr>\n",
       "      <th>...</th>\n",
       "      <td>...</td>\n",
       "      <td>...</td>\n",
       "      <td>...</td>\n",
       "      <td>...</td>\n",
       "      <td>...</td>\n",
       "      <td>...</td>\n",
       "      <td>...</td>\n",
       "      <td>...</td>\n",
       "      <td>...</td>\n",
       "      <td>...</td>\n",
       "      <td>...</td>\n",
       "      <td>...</td>\n",
       "      <td>...</td>\n",
       "      <td>...</td>\n",
       "      <td>...</td>\n",
       "      <td>...</td>\n",
       "      <td>...</td>\n",
       "      <td>...</td>\n",
       "      <td>...</td>\n",
       "      <td>...</td>\n",
       "      <td>...</td>\n",
       "    </tr>\n",
       "    <tr>\n",
       "      <th>245</th>\n",
       "      <td>245</td>\n",
       "      <td>245</td>\n",
       "      <td>Dersu Uzala</td>\n",
       "      <td>1975</td>\n",
       "      <td>G</td>\n",
       "      <td>20 Dec 1977</td>\n",
       "      <td>142 min</td>\n",
       "      <td>Adventure, Biography, Drama</td>\n",
       "      <td>Akira Kurosawa</td>\n",
       "      <td>Akira Kurosawa, Yuriy Nagibin, Vladimir Arsenev</td>\n",
       "      <td>...</td>\n",
       "      <td>NaN</td>\n",
       "      <td>8.2</td>\n",
       "      <td>29,901</td>\n",
       "      <td>tt0071411</td>\n",
       "      <td>movie</td>\n",
       "      <td>22 Mar 2007</td>\n",
       "      <td>NaN</td>\n",
       "      <td>NaN</td>\n",
       "      <td>NaN</td>\n",
       "      <td>True</td>\n",
       "    </tr>\n",
       "    <tr>\n",
       "      <th>246</th>\n",
       "      <td>246</td>\n",
       "      <td>246</td>\n",
       "      <td>Aladdin</td>\n",
       "      <td>1992</td>\n",
       "      <td>G</td>\n",
       "      <td>25 Nov 1992</td>\n",
       "      <td>90 min</td>\n",
       "      <td>Animation, Adventure, Comedy</td>\n",
       "      <td>Ron Clements, John Musker</td>\n",
       "      <td>Ron Clements, John Musker, Ted Elliott</td>\n",
       "      <td>...</td>\n",
       "      <td>86.0</td>\n",
       "      <td>8.0</td>\n",
       "      <td>417,939</td>\n",
       "      <td>tt0103639</td>\n",
       "      <td>movie</td>\n",
       "      <td>13 Oct 2015</td>\n",
       "      <td>$217,350,219</td>\n",
       "      <td>NaN</td>\n",
       "      <td>NaN</td>\n",
       "      <td>True</td>\n",
       "    </tr>\n",
       "    <tr>\n",
       "      <th>247</th>\n",
       "      <td>247</td>\n",
       "      <td>247</td>\n",
       "      <td>The Help</td>\n",
       "      <td>2011</td>\n",
       "      <td>PG-13</td>\n",
       "      <td>10 Aug 2011</td>\n",
       "      <td>146 min</td>\n",
       "      <td>Drama</td>\n",
       "      <td>Tate Taylor</td>\n",
       "      <td>Tate Taylor, Kathryn Stockett</td>\n",
       "      <td>...</td>\n",
       "      <td>62.0</td>\n",
       "      <td>8.1</td>\n",
       "      <td>458,386</td>\n",
       "      <td>tt1454029</td>\n",
       "      <td>movie</td>\n",
       "      <td>06 Dec 2011</td>\n",
       "      <td>$169,708,112</td>\n",
       "      <td>NaN</td>\n",
       "      <td>NaN</td>\n",
       "      <td>True</td>\n",
       "    </tr>\n",
       "    <tr>\n",
       "      <th>248</th>\n",
       "      <td>248</td>\n",
       "      <td>248</td>\n",
       "      <td>Gandhi</td>\n",
       "      <td>1982</td>\n",
       "      <td>PG</td>\n",
       "      <td>25 Feb 1983</td>\n",
       "      <td>191 min</td>\n",
       "      <td>Biography, Drama</td>\n",
       "      <td>Richard Attenborough</td>\n",
       "      <td>John Briley</td>\n",
       "      <td>...</td>\n",
       "      <td>79.0</td>\n",
       "      <td>8.1</td>\n",
       "      <td>231,604</td>\n",
       "      <td>tt0083987</td>\n",
       "      <td>movie</td>\n",
       "      <td>20 Feb 2007</td>\n",
       "      <td>$52,767,889</td>\n",
       "      <td>NaN</td>\n",
       "      <td>NaN</td>\n",
       "      <td>True</td>\n",
       "    </tr>\n",
       "    <tr>\n",
       "      <th>249</th>\n",
       "      <td>249</td>\n",
       "      <td>249</td>\n",
       "      <td>The Iron Giant</td>\n",
       "      <td>1999</td>\n",
       "      <td>PG</td>\n",
       "      <td>06 Aug 1999</td>\n",
       "      <td>86 min</td>\n",
       "      <td>Animation, Action, Adventure</td>\n",
       "      <td>Brad Bird</td>\n",
       "      <td>Tim McCanlies, Brad Bird, Ted Hughes</td>\n",
       "      <td>...</td>\n",
       "      <td>85.0</td>\n",
       "      <td>8.1</td>\n",
       "      <td>196,293</td>\n",
       "      <td>tt0129167</td>\n",
       "      <td>movie</td>\n",
       "      <td>27 Sep 2005</td>\n",
       "      <td>$23,315,035</td>\n",
       "      <td>NaN</td>\n",
       "      <td>NaN</td>\n",
       "      <td>True</td>\n",
       "    </tr>\n",
       "  </tbody>\n",
       "</table>\n",
       "<p>250 rows × 27 columns</p>\n",
       "</div>"
      ],
      "text/plain": [
       "     index  Unnamed: 0                     Title  Year     Rated     Released  \\\n",
       "0        0           0  The Shawshank Redemption  1994         R  14 Oct 1994   \n",
       "1        1           1             The Godfather  1972         R  24 Mar 1972   \n",
       "2        2           2           The Dark Knight  2008     PG-13  18 Jul 2008   \n",
       "3        3           3     The Godfather Part II  1974         R  18 Dec 1974   \n",
       "4        4           4              12 Angry Men  1957  Approved  10 Apr 1957   \n",
       "..     ...         ...                       ...   ...       ...          ...   \n",
       "245    245         245               Dersu Uzala  1975         G  20 Dec 1977   \n",
       "246    246         246                   Aladdin  1992         G  25 Nov 1992   \n",
       "247    247         247                  The Help  2011     PG-13  10 Aug 2011   \n",
       "248    248         248                    Gandhi  1982        PG  25 Feb 1983   \n",
       "249    249         249            The Iron Giant  1999        PG  06 Aug 1999   \n",
       "\n",
       "     Runtime                         Genre                   Director  \\\n",
       "0    142 min                         Drama             Frank Darabont   \n",
       "1    175 min                  Crime, Drama       Francis Ford Coppola   \n",
       "2    152 min          Action, Crime, Drama          Christopher Nolan   \n",
       "3    202 min                  Crime, Drama       Francis Ford Coppola   \n",
       "4     96 min                  Crime, Drama               Sidney Lumet   \n",
       "..       ...                           ...                        ...   \n",
       "245  142 min   Adventure, Biography, Drama             Akira Kurosawa   \n",
       "246   90 min  Animation, Adventure, Comedy  Ron Clements, John Musker   \n",
       "247  146 min                         Drama                Tate Taylor   \n",
       "248  191 min              Biography, Drama       Richard Attenborough   \n",
       "249   86 min  Animation, Action, Adventure                  Brad Bird   \n",
       "\n",
       "                                                Writer  ... Metascore  \\\n",
       "0                         Stephen King, Frank Darabont  ...      81.0   \n",
       "1                     Mario Puzo, Francis Ford Coppola  ...     100.0   \n",
       "2    Jonathan Nolan, Christopher Nolan, David S. Goyer  ...      84.0   \n",
       "3                     Francis Ford Coppola, Mario Puzo  ...      90.0   \n",
       "4                                        Reginald Rose  ...      96.0   \n",
       "..                                                 ...  ...       ...   \n",
       "245    Akira Kurosawa, Yuriy Nagibin, Vladimir Arsenev  ...       NaN   \n",
       "246             Ron Clements, John Musker, Ted Elliott  ...      86.0   \n",
       "247                      Tate Taylor, Kathryn Stockett  ...      62.0   \n",
       "248                                        John Briley  ...      79.0   \n",
       "249               Tim McCanlies, Brad Bird, Ted Hughes  ...      85.0   \n",
       "\n",
       "    imdbRating  imdbVotes     imdbID   Type          DVD     BoxOffice  \\\n",
       "0          9.3  2,651,602  tt0111161  movie  21 Dec 1999   $28,767,189   \n",
       "1          9.2  1,840,332  tt0068646  movie  11 May 2004  $136,381,073   \n",
       "2          9.0  2,628,154  tt0468569  movie  09 Dec 2008  $534,987,076   \n",
       "3          9.0  1,260,911  tt0071562  movie  24 May 2005   $47,834,595   \n",
       "4          9.0    782,913  tt0050083  movie  04 Mar 2008           NaN   \n",
       "..         ...        ...        ...    ...          ...           ...   \n",
       "245        8.2     29,901  tt0071411  movie  22 Mar 2007           NaN   \n",
       "246        8.0    417,939  tt0103639  movie  13 Oct 2015  $217,350,219   \n",
       "247        8.1    458,386  tt1454029  movie  06 Dec 2011  $169,708,112   \n",
       "248        8.1    231,604  tt0083987  movie  20 Feb 2007   $52,767,889   \n",
       "249        8.1    196,293  tt0129167  movie  27 Sep 2005   $23,315,035   \n",
       "\n",
       "     Production  Website Response  \n",
       "0           NaN      NaN     True  \n",
       "1           NaN      NaN     True  \n",
       "2           NaN      NaN     True  \n",
       "3           NaN      NaN     True  \n",
       "4           NaN      NaN     True  \n",
       "..          ...      ...      ...  \n",
       "245         NaN      NaN     True  \n",
       "246         NaN      NaN     True  \n",
       "247         NaN      NaN     True  \n",
       "248         NaN      NaN     True  \n",
       "249         NaN      NaN     True  \n",
       "\n",
       "[250 rows x 27 columns]"
      ]
     },
     "execution_count": 6,
     "metadata": {},
     "output_type": "execute_result"
    }
   ],
   "source": [
    "df"
   ]
  },
  {
   "cell_type": "markdown",
   "id": "f8cf5b96",
   "metadata": {},
   "source": [
    "## Writers Count"
   ]
  },
  {
   "cell_type": "code",
   "execution_count": 7,
   "id": "0f331fff",
   "metadata": {},
   "outputs": [
    {
     "data": {
      "text/plain": [
       "0    Charles Chaplin\n",
       "Name: Writer, dtype: object"
      ]
     },
     "execution_count": 7,
     "metadata": {},
     "output_type": "execute_result"
    }
   ],
   "source": [
    "df[\"Writer\"].mode()"
   ]
  },
  {
   "cell_type": "code",
   "execution_count": 8,
   "id": "ac0c4ed9",
   "metadata": {},
   "outputs": [
    {
     "data": {
      "text/plain": [
       "Charles Chaplin                                  4\n",
       "J.R.R. Tolkien, Fran Walsh, Philippa Boyens      3\n",
       "Ingmar Bergman                                   3\n",
       "Stephen King, Frank Darabont                     2\n",
       "Christopher Markus, Stephen McFeely, Stan Lee    2\n",
       "                                                ..\n",
       "Thea von Harbou, Fritz Lang, Egon Jacobsohn      1\n",
       "Robert Bolt, Michael Wilson                      1\n",
       "Ales Adamovich, Elem Klimov                      1\n",
       "Ernest Lehman                                    1\n",
       "Tim McCanlies, Brad Bird, Ted Hughes             1\n",
       "Name: Writer, Length: 233, dtype: int64"
      ]
     },
     "execution_count": 8,
     "metadata": {},
     "output_type": "execute_result"
    }
   ],
   "source": [
    "df[\"Writer\"].value_counts()"
   ]
  },
  {
   "cell_type": "code",
   "execution_count": 9,
   "id": "c2bf77d5",
   "metadata": {},
   "outputs": [],
   "source": [
    "writer_list = df['Writer'].tolist()\n",
    "all_writers = [item.split(', ') for item in writer_list]\n",
    "\n",
    "all_writers = [item for l in all_writers for item in l]"
   ]
  },
  {
   "cell_type": "code",
   "execution_count": 10,
   "id": "a5d1424b",
   "metadata": {},
   "outputs": [
    {
     "data": {
      "text/plain": [
       "Stanley Kubrick      7\n",
       "Christopher Nolan    7\n",
       "Akira Kurosawa       6\n",
       "Quentin Tarantino    5\n",
       "Jonathan Nolan       5\n",
       "                    ..\n",
       "Ales Adamovich       1\n",
       "Robert Bolt          1\n",
       "Egon Jacobsohn       1\n",
       "John Houseman        1\n",
       "Ted Hughes           1\n",
       "Length: 437, dtype: int64"
      ]
     },
     "execution_count": 10,
     "metadata": {},
     "output_type": "execute_result"
    }
   ],
   "source": [
    "pd.Series(all_writers).value_counts()"
   ]
  },
  {
   "cell_type": "markdown",
   "id": "21b0cbd2",
   "metadata": {},
   "source": [
    "## Actor Count"
   ]
  },
  {
   "cell_type": "code",
   "execution_count": 11,
   "id": "9e50fa5d",
   "metadata": {},
   "outputs": [
    {
     "data": {
      "text/plain": [
       "0    Mark Hamill, Harrison Ford, Carrie Fisher\n",
       "Name: Actors, dtype: object"
      ]
     },
     "execution_count": 11,
     "metadata": {},
     "output_type": "execute_result"
    }
   ],
   "source": [
    "df[\"Actors\"].mode()"
   ]
  },
  {
   "cell_type": "code",
   "execution_count": 12,
   "id": "513321d8",
   "metadata": {},
   "outputs": [
    {
     "data": {
      "text/plain": [
       "Mark Hamill, Harrison Ford, Carrie Fisher                         3\n",
       "Tim Robbins, Morgan Freeman, Bob Gunton                           1\n",
       "Leonardo DiCaprio, Tom Hanks, Christopher Walken                  1\n",
       "Jason Flemyng, Dexter Fletcher, Nick Moran                        1\n",
       "Ray Milland, Grace Kelly, Robert Cummings                         1\n",
       "                                                                 ..\n",
       "Keir Dullea, Gary Lockwood, William Sylvester                     1\n",
       "Zain Al Rafeea, Yordanos Shiferaw, Boluwatife Treasure Bankole    1\n",
       "Harvey Keitel, Tim Roth, Michael Madsen                           1\n",
       "Mads Mikkelsen, Thomas Bo Larsen, Annika Wedderkopp               1\n",
       "Eli Marienthal, Harry Connick Jr., Jennifer Aniston               1\n",
       "Name: Actors, Length: 248, dtype: int64"
      ]
     },
     "execution_count": 12,
     "metadata": {},
     "output_type": "execute_result"
    }
   ],
   "source": [
    "df[\"Actors\"].value_counts()"
   ]
  },
  {
   "cell_type": "code",
   "execution_count": 13,
   "id": "ab3cbc22",
   "metadata": {},
   "outputs": [],
   "source": [
    "actor_list = df['Actors'].tolist()\n",
    "all_actors = [item.split(', ') for item in actor_list]\n",
    "\n",
    "all_actors = [item for l in all_actors for item in l]"
   ]
  },
  {
   "cell_type": "code",
   "execution_count": 14,
   "id": "3d929b1c",
   "metadata": {},
   "outputs": [
    {
     "data": {
      "text/plain": [
       "Robert De Niro       9\n",
       "Leonardo DiCaprio    6\n",
       "Tom Hanks            6\n",
       "Harrison Ford        6\n",
       "Christian Bale       5\n",
       "                    ..\n",
       "Inge Landgut         1\n",
       "Ellen Widmann        1\n",
       "Peter Lorre          1\n",
       "Dorothy Comingore    1\n",
       "Jennifer Aniston     1\n",
       "Length: 588, dtype: int64"
      ]
     },
     "execution_count": 14,
     "metadata": {},
     "output_type": "execute_result"
    }
   ],
   "source": [
    "pd.Series(all_actors).value_counts()"
   ]
  },
  {
   "cell_type": "markdown",
   "id": "047a33c3",
   "metadata": {},
   "source": [
    "### Genre Count"
   ]
  },
  {
   "cell_type": "code",
   "execution_count": 15,
   "id": "9af7f39b",
   "metadata": {},
   "outputs": [
    {
     "data": {
      "text/plain": [
       "0    Drama\n",
       "Name: Genre, dtype: object"
      ]
     },
     "execution_count": 15,
     "metadata": {},
     "output_type": "execute_result"
    }
   ],
   "source": [
    "df[\"Genre\"].mode()"
   ]
  },
  {
   "cell_type": "code",
   "execution_count": 16,
   "id": "bee19dd2",
   "metadata": {},
   "outputs": [
    {
     "data": {
      "text/plain": [
       "Drama                           19\n",
       "Crime, Drama                    14\n",
       "Animation, Adventure, Comedy    10\n",
       "Crime, Drama, Mystery            9\n",
       "Biography, Drama, History        8\n",
       "                                ..\n",
       "Drama, Sci-Fi                    1\n",
       "Action, Thriller                 1\n",
       "Comedy, Drama, Family            1\n",
       "Comedy, Music, Romance           1\n",
       "Comedy                           1\n",
       "Name: Genre, Length: 104, dtype: int64"
      ]
     },
     "execution_count": 16,
     "metadata": {},
     "output_type": "execute_result"
    }
   ],
   "source": [
    "df[\"Genre\"].value_counts()"
   ]
  },
  {
   "cell_type": "code",
   "execution_count": 17,
   "id": "0ad13cb8",
   "metadata": {},
   "outputs": [],
   "source": [
    "genre_list = df['Genre'].tolist()\n",
    "all_genres = [item.split(', ') for item in genre_list]\n",
    "\n",
    "all_genres = [item for l in all_genres for item in l]"
   ]
  },
  {
   "cell_type": "code",
   "execution_count": 18,
   "id": "b1cba8c7",
   "metadata": {},
   "outputs": [
    {
     "data": {
      "text/plain": [
       "Drama        176\n",
       "Adventure     60\n",
       "Action        51\n",
       "Crime         51\n",
       "Comedy        46\n",
       "Mystery       31\n",
       "Thriller      30\n",
       "Biography     29\n",
       "Romance       23\n",
       "War           23\n",
       "Animation     23\n",
       "Sci-Fi        20\n",
       "Fantasy       14\n",
       "Family        13\n",
       "History        9\n",
       "Western        6\n",
       "Horror         5\n",
       "Sport          5\n",
       "Music          4\n",
       "Film-Noir      4\n",
       "Musical        1\n",
       "dtype: int64"
      ]
     },
     "execution_count": 18,
     "metadata": {},
     "output_type": "execute_result"
    }
   ],
   "source": [
    " pd.Series(all_genres).value_counts()"
   ]
  },
  {
   "cell_type": "markdown",
   "id": "efd012b7",
   "metadata": {},
   "source": [
    "## Director Count"
   ]
  },
  {
   "cell_type": "code",
   "execution_count": 19,
   "id": "559bbbb0",
   "metadata": {},
   "outputs": [
    {
     "data": {
      "text/plain": [
       "Martin Scorsese         7\n",
       "Stanley Kubrick         7\n",
       "Christopher Nolan       7\n",
       "Steven Spielberg        7\n",
       "Akira Kurosawa          7\n",
       "                       ..\n",
       "Elem Klimov             1\n",
       "Orson Welles            1\n",
       "Thomas Vinterberg       1\n",
       "Nadine Labaki           1\n",
       "Richard Attenborough    1\n",
       "Name: Director, Length: 160, dtype: int64"
      ]
     },
     "execution_count": 19,
     "metadata": {},
     "output_type": "execute_result"
    }
   ],
   "source": [
    "df[\"Director\"].value_counts()"
   ]
  },
  {
   "cell_type": "code",
   "execution_count": 20,
   "id": "93077621",
   "metadata": {
    "scrolled": true
   },
   "outputs": [
    {
     "data": {
      "text/plain": [
       "0       Akira Kurosawa\n",
       "1    Christopher Nolan\n",
       "2      Martin Scorsese\n",
       "3      Stanley Kubrick\n",
       "4     Steven Spielberg\n",
       "Name: Director, dtype: object"
      ]
     },
     "execution_count": 20,
     "metadata": {},
     "output_type": "execute_result"
    }
   ],
   "source": [
    "df[\"Director\"].mode()"
   ]
  },
  {
   "cell_type": "code",
   "execution_count": 21,
   "id": "c9b518be",
   "metadata": {},
   "outputs": [],
   "source": [
    "director_list = df['Director'].tolist()\n",
    "all_directors = [item.split(', ') for item in director_list]\n",
    "\n",
    "all_directors = [item for l in all_directors for item in l]"
   ]
  },
  {
   "cell_type": "code",
   "execution_count": 22,
   "id": "5b742a94",
   "metadata": {},
   "outputs": [
    {
     "data": {
      "text/plain": [
       "Stanley Kubrick         7\n",
       "Christopher Nolan       7\n",
       "Steven Spielberg        7\n",
       "Akira Kurosawa          7\n",
       "Martin Scorsese         7\n",
       "                       ..\n",
       "Nadine Labaki           1\n",
       "Michel Gondry           1\n",
       "Richard Marquand        1\n",
       "Rajkumar Hirani         1\n",
       "Richard Attenborough    1\n",
       "Length: 175, dtype: int64"
      ]
     },
     "execution_count": 22,
     "metadata": {},
     "output_type": "execute_result"
    }
   ],
   "source": [
    "pd.Series(all_directors).value_counts()"
   ]
  },
  {
   "cell_type": "code",
   "execution_count": null,
   "id": "082e3a37",
   "metadata": {},
   "outputs": [],
   "source": []
  },
  {
   "cell_type": "code",
   "execution_count": 24,
   "id": "6d2870b5",
   "metadata": {},
   "outputs": [
    {
     "data": {
      "text/plain": [
       "R            102\n",
       "PG            37\n",
       "PG-13         34\n",
       "Not Rated     24\n",
       "G             19\n",
       "Passed        16\n",
       "Approved      13\n",
       "TV-PG          1\n",
       "Unrated        1\n",
       "X              1\n",
       "TV-MA          1\n",
       "GP             1\n",
       "Name: Rated, dtype: int64"
      ]
     },
     "execution_count": 24,
     "metadata": {},
     "output_type": "execute_result"
    }
   ],
   "source": [
    "df[\"Rated\"].value_counts()"
   ]
  },
  {
   "cell_type": "code",
   "execution_count": null,
   "id": "1d98096e",
   "metadata": {},
   "outputs": [],
   "source": []
  }
 ],
 "metadata": {
  "kernelspec": {
   "display_name": "Python 3 (ipykernel)",
   "language": "python",
   "name": "python3"
  },
  "language_info": {
   "codemirror_mode": {
    "name": "ipython",
    "version": 3
   },
   "file_extension": ".py",
   "mimetype": "text/x-python",
   "name": "python",
   "nbconvert_exporter": "python",
   "pygments_lexer": "ipython3",
   "version": "3.9.13"
  }
 },
 "nbformat": 4,
 "nbformat_minor": 5
}
